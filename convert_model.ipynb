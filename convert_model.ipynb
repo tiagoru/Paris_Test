{
 "cells": [
  {
   "cell_type": "code",
   "execution_count": 1,
   "metadata": {},
   "outputs": [],
   "source": [
    "import pickle\n",
    "\n",
    "# Load the model from the pickle file\n",
    "with open('saved_rf_model.pkl', 'rb') as file:\n",
    "    model = pickle.load(file)"
   ]
  },
  {
   "cell_type": "code",
   "execution_count": 2,
   "metadata": {},
   "outputs": [
    {
     "data": {
      "text/plain": [
       "['msaved_rf_model_joblib.pkl']"
      ]
     },
     "execution_count": 2,
     "metadata": {},
     "output_type": "execute_result"
    }
   ],
   "source": [
    "import joblib\n",
    "\n",
    "# Save the model using joblib\n",
    "joblib.dump(model, 'msaved_rf_model_joblib.pkl')"
   ]
  },
  {
   "cell_type": "code",
   "execution_count": 1,
   "metadata": {},
   "outputs": [
    {
     "ename": "AttributeError",
     "evalue": "'sklearn.tree._tree.Tree' object has no attribute 'left_child'",
     "output_type": "error",
     "traceback": [
      "\u001b[1;31m---------------------------------------------------------------------------\u001b[0m",
      "\u001b[1;31mAttributeError\u001b[0m                            Traceback (most recent call last)",
      "\u001b[1;32m~\\AppData\\Local\\Temp\\ipykernel_33608\\2114145741.py\u001b[0m in \u001b[0;36m<module>\u001b[1;34m\u001b[0m\n\u001b[0;32m     27\u001b[0m     \u001b[1;31m# Copy the data from the old array to the new array\u001b[0m\u001b[1;33m\u001b[0m\u001b[1;33m\u001b[0m\u001b[0m\n\u001b[0;32m     28\u001b[0m     \u001b[1;32mfor\u001b[0m \u001b[0mname\u001b[0m \u001b[1;32min\u001b[0m \u001b[0mnew_dtype\u001b[0m\u001b[1;33m.\u001b[0m\u001b[0mnames\u001b[0m\u001b[1;33m:\u001b[0m\u001b[1;33m\u001b[0m\u001b[1;33m\u001b[0m\u001b[0m\n\u001b[1;32m---> 29\u001b[1;33m         \u001b[0mnew_nodes\u001b[0m\u001b[1;33m[\u001b[0m\u001b[0mname\u001b[0m\u001b[1;33m]\u001b[0m \u001b[1;33m=\u001b[0m \u001b[0mgetattr\u001b[0m\u001b[1;33m(\u001b[0m\u001b[0mtree\u001b[0m\u001b[1;33m,\u001b[0m \u001b[0mname\u001b[0m\u001b[1;33m)\u001b[0m\u001b[1;33m\u001b[0m\u001b[1;33m\u001b[0m\u001b[0m\n\u001b[0m\u001b[0;32m     30\u001b[0m \u001b[1;33m\u001b[0m\u001b[0m\n\u001b[0;32m     31\u001b[0m     \u001b[1;31m# Replace the old node array with the new node array\u001b[0m\u001b[1;33m\u001b[0m\u001b[1;33m\u001b[0m\u001b[0m\n",
      "\u001b[1;31mAttributeError\u001b[0m: 'sklearn.tree._tree.Tree' object has no attribute 'left_child'"
     ]
    }
   ],
   "source": [
    "import pickle\n",
    "import joblib\n",
    "import numpy as np\n",
    "\n",
    "# Load the model from the pickle file\n",
    "with open('saved_rf_model.pkl', 'rb') as file:\n",
    "    model = pickle.load(file)\n",
    "\n",
    "# Iterate over each tree in the forest\n",
    "for estimator in model.estimators_:\n",
    "    tree = estimator.tree_\n",
    "\n",
    "    # Create a new dtype without the 'missing_go_to_left' field\n",
    "    new_dtype = np.dtype([\n",
    "        ('left_child', '<i8'),\n",
    "        ('right_child', '<i8'),\n",
    "        ('feature', '<i8'),\n",
    "        ('threshold', '<f8'),\n",
    "        ('impurity', '<f8'),\n",
    "        ('n_node_samples', '<i8'),\n",
    "        ('weighted_n_node_samples', '<f8')\n",
    "    ])\n",
    "\n",
    "    # Create a new array with the new dtype\n",
    "    new_nodes = np.empty(tree.node_count, dtype=new_dtype)\n",
    "\n",
    "    # Copy the data from the old array to the new array\n",
    "    for name in new_dtype.names:\n",
    "        new_nodes[name] = getattr(tree, name)\n",
    "\n",
    "    # Replace the old node array with the new node array\n",
    "    tree.__setattr__('nodes', new_nodes)\n",
    "\n",
    "# Save the adjusted model using joblib\n",
    "joblib.dump(model, 'model_joblib.pkl')\n",
    "\n",
    "# Load the model using joblib to ensure it works correctly\n",
    "model = joblib.load('model_joblib.pkl')\n",
    "\n",
    "print(\"Model conversion successful and verified.\")"
   ]
  }
 ],
 "metadata": {
  "kernelspec": {
   "display_name": "base",
   "language": "python",
   "name": "python3"
  },
  "language_info": {
   "codemirror_mode": {
    "name": "ipython",
    "version": 3
   },
   "file_extension": ".py",
   "mimetype": "text/x-python",
   "name": "python",
   "nbconvert_exporter": "python",
   "pygments_lexer": "ipython3",
   "version": "3.9.13"
  }
 },
 "nbformat": 4,
 "nbformat_minor": 2
}
